{
 "cells": [
  {
   "cell_type": "code",
   "execution_count": 1,
   "metadata": {
    "scrolled": true
   },
   "outputs": [
    {
     "name": "stdout",
     "output_type": "stream",
     "text": [
      "66.6\n"
     ]
    },
    {
     "data": {
      "text/plain": [
       "array([nan])"
      ]
     },
     "execution_count": 1,
     "metadata": {},
     "output_type": "execute_result"
    }
   ],
   "source": [
    "import numpy as np\n",
    "english_score = np.array([55,89,76,65,48,70])\n",
    "math_score = np.array([60,85,60,68,np.nan,60])\n",
    "chinese_score = np.array([65,90,82,72,66,77])\n",
    "#avergy\n",
    "E_avg=np.mean(english_score)\n",
    "M_avg=np.nanmean(math_score)\n",
    "C_avg=np.mean(chinese_score)\n",
    "#maximum\n",
    "E_maximum = np.max(english_score)\n",
    "M_maximum = np.nanmax(math_score)\n",
    "C_maximum = np.max(chinese_score)\n",
    "#minimum\n",
    "E_minimum=np.min(english_score)\n",
    "M_minimum=np.nanmin(math_score)\n",
    "C_minimum=np.min(chinese_score)\n",
    "#std\n",
    "E_std=np.std(english_score)#,axis=None,dtype=None,ddof=0,keepdims=<no value>)\n",
    "M_std=np.std(math_score)\n",
    "C_std=np.std(chinese_score)\n",
    "print(M_avg)"
   ]
  },
  {
   "cell_type": "code",
   "execution_count": 9,
   "metadata": {},
   "outputs": [
    {
     "name": "stdout",
     "output_type": "stream",
     "text": [
      "64.66666666666667\n",
      "[29616.]\n",
      "[31055]\n",
      "31055.0\n"
     ]
    }
   ],
   "source": [
    "math_score[4]=55\n",
    "M_avg2=np.nanmean(math_score)\n",
    "M_maximum2 = np.nanmax(math_score)\n",
    "M_minimum2=np.nanmin(math_score)\n",
    "M_std2=np.std(math_score)\n",
    "print(M_avg2)\n",
    "#find the maximum correlation\n",
    "a=np.correlate(math_score,chinese_score)\n",
    "b=np.correlate(english_score,chinese_score)\n",
    "print(a)\n",
    "print(b)\n",
    "c=np.array([a,b])\n",
    "maxcorrelate=np.max(c)\n",
    "print(maxcorrelate)\n",
    "#so the english have a higher correlation with chinese"
   ]
  }
 ],
 "metadata": {
  "kernelspec": {
   "display_name": "Python 3",
   "language": "python",
   "name": "python3"
  },
  "language_info": {
   "codemirror_mode": {
    "name": "ipython",
    "version": 3
   },
   "file_extension": ".py",
   "mimetype": "text/x-python",
   "name": "python",
   "nbconvert_exporter": "python",
   "pygments_lexer": "ipython3",
   "version": "3.8.3"
  }
 },
 "nbformat": 4,
 "nbformat_minor": 4
}
