{
 "cells": [
  {
   "cell_type": "code",
   "execution_count": 1,
   "id": "27763b4b",
   "metadata": {},
   "outputs": [
    {
     "name": "stdout",
     "output_type": "stream",
     "text": [
      "    fruit  weight  price\n",
      "0   apple    high     10\n",
      "1  banana  medium      2\n",
      "2  orange     low     12\n",
      "3   apple    high      9\n",
      "4  banana  medium      3\n",
      "5  orange     low      3\n",
      "6   apple    high      4\n",
      "7  banana  medium      8\n",
      "8  orange     low      7\n",
      "    fruit weight  price\n",
      "0   apple   high      0\n",
      "1  orange    low     12\n",
      "2    pine   high     14\n",
      "3   apple    low      3\n",
      "4  orange   high     12\n",
      "5    pine    low      3\n"
     ]
    }
   ],
   "source": [
    "import pandas as pd\n",
    "import numpy as np\n",
    "df1 = pd.DataFrame({\n",
    "    'fruit': ['apple', 'banana', 'orange'] * 3,\n",
    "    'weight': ['high', 'medium', 'low'] * 3,\n",
    "    'price': np.random.randint(0, 15, 9)\n",
    "})\n",
    "\n",
    "df2 = pd.DataFrame({\n",
    "    'fruit': ['apple', 'orange', 'pine'] * 2,\n",
    "    'weight': ['high', 'low'] * 3,\n",
    "    'price': np.random.randint(0, 15, 6)\n",
    "})\n",
    "print(df1)\n",
    "print(df2)"
   ]
  },
  {
   "cell_type": "code",
   "execution_count": 3,
   "id": "895d0887",
   "metadata": {},
   "outputs": [
    {
     "name": "stdout",
     "output_type": "stream",
     "text": [
      "     fruit weight_x  price_x weight_y  price_y\n",
      "0    apple     high     10.0     high      0.0\n",
      "1    apple     high     10.0      low      3.0\n",
      "2    apple     high      9.0     high      0.0\n",
      "3    apple     high      9.0      low      3.0\n",
      "4    apple     high      4.0     high      0.0\n",
      "5    apple     high      4.0      low      3.0\n",
      "6   banana   medium      2.0      NaN      NaN\n",
      "7   banana   medium      3.0      NaN      NaN\n",
      "8   banana   medium      8.0      NaN      NaN\n",
      "9   orange      low     12.0      low     12.0\n",
      "10  orange      low     12.0     high     12.0\n",
      "11  orange      low      3.0      low     12.0\n",
      "12  orange      low      3.0     high     12.0\n",
      "13  orange      low      7.0      low     12.0\n",
      "14  orange      low      7.0     high     12.0\n",
      "15    pine      NaN      NaN     high     14.0\n",
      "16    pine      NaN      NaN      low      3.0\n"
     ]
    }
   ],
   "source": [
    "# - 依照 fruit 欄位做合併\n",
    "result = pd.merge(df1,df2,how=\"outer\",on=[\"fruit\"])\n",
    "print(result)"
   ]
  },
  {
   "cell_type": "code",
   "execution_count": 4,
   "id": "5f38e11a",
   "metadata": {},
   "outputs": [
    {
     "name": "stdout",
     "output_type": "stream",
     "text": [
      "  fruit_x weight_x  price_x  index fruit_y weight_y  price_y\n",
      "0   apple     high       10      0   apple     high      0.0\n",
      "1  banana   medium        2      1  orange      low     12.0\n",
      "2  orange      low       12      2    pine     high     14.0\n",
      "3   apple     high        9      3   apple      low      3.0\n",
      "4  banana   medium        3      4  orange     high     12.0\n",
      "5  orange      low        3      5    pine      low      3.0\n",
      "6   apple     high        4      6     NaN      NaN      NaN\n",
      "7  banana   medium        8      7     NaN      NaN      NaN\n",
      "8  orange      low        7      8     NaN      NaN      NaN\n"
     ]
    }
   ],
   "source": [
    "# - 依照 index 索引做合併\n",
    "df1[\"index\"] = pd.Series(np.arange(9))\n",
    "df2[\"index\"] = pd.Series(np.arange(9))\n",
    "result2 = pd.merge(df1,df2,how=\"outer\",on=[\"index\"])\n",
    "print(result2)"
   ]
  },
  {
   "cell_type": "code",
   "execution_count": null,
   "id": "994cb6a8",
   "metadata": {},
   "outputs": [],
   "source": [
    "# 2. [簡答題] 承上題，請問為什麼依照 merge 合併後有些資料不見了？\n",
    "    # 因為此類水果(fruit)，或此類索引(text)，只有其中一組資料集有樣本，另一組沒有，就產生遺漏資料。\n",
    "# 3. [簡答題] 承上題，請問為什麼依照 index 合併會發生錯誤？請用程式解決。\n",
    "    # index並非變數, 無法作為合併的連接變數使用, 透過加入新一欄值同於索引的變數作為連接變數來進行資料合併。\n",
    " # 製作 index 變數來合併"
   ]
  }
 ],
 "metadata": {
  "kernelspec": {
   "display_name": "Python 3 (ipykernel)",
   "language": "python",
   "name": "python3"
  },
  "language_info": {
   "codemirror_mode": {
    "name": "ipython",
    "version": 3
   },
   "file_extension": ".py",
   "mimetype": "text/x-python",
   "name": "python",
   "nbconvert_exporter": "python",
   "pygments_lexer": "ipython3",
   "version": "3.9.6"
  }
 },
 "nbformat": 4,
 "nbformat_minor": 5
}
