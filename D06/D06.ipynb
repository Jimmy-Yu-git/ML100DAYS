{
 "cells": [
  {
   "cell_type": "code",
   "execution_count": 17,
   "metadata": {},
   "outputs": [],
   "source": [
    "#. 將下兩列array存成npz檔\n",
    "import numpy as np\n",
    "array1 = np.array(range(30))\n",
    "array2 = np.array([2,3,5])\n",
    "with open('multi_array.npz','wb') as f:\n",
    "    np.savez(f,array1=array1,array2=array2)"
   ]
  },
  {
   "cell_type": "code",
   "execution_count": 18,
   "metadata": {},
   "outputs": [
    {
     "name": "stdout",
     "output_type": "stream",
     "text": [
      "[ 0  1  2  3  4  5  6  7  8  9 10 11 12 13 14 15 16 17 18 19 20 21 22 23\n",
      " 24 25 26 27 28 29]\n",
      "[2 3 5]\n"
     ]
    }
   ],
   "source": [
    "npzfile = np.load('multi_array.npz')\n",
    "npzfile.files\n",
    "print(npzfile['array1'])\n",
    "print(npzfile['array2'])"
   ]
  },
  {
   "cell_type": "code",
   "execution_count": 22,
   "metadata": {},
   "outputs": [],
   "source": [
    "#2. 讀取剛剛的npz檔，加入下列array一起存成新的npz檔\n",
    "array3=np.random.randint(1,10,20)\n",
    "with open('multi_array.npz','wb') as f:\n",
    "   np.savez(f,array3=array3)"
   ]
  },
  {
   "cell_type": "code",
   "execution_count": 24,
   "metadata": {},
   "outputs": [
    {
     "name": "stdout",
     "output_type": "stream",
     "text": [
      "[7 8 5 2 6 7 6 4 7 5 5 9 3 9 1 6 9 4 1 2]\n"
     ]
    }
   ],
   "source": [
    "npzfile = np.load('multi_array.npz')\n",
    "npzfile.files\n",
    "print(npzfile['array3'])"
   ]
  }
 ],
 "metadata": {
  "kernelspec": {
   "display_name": "Python 3",
   "language": "python",
   "name": "python3"
  }
 },
 "nbformat": 4,
 "nbformat_minor": 4
}
