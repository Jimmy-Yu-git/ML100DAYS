{
 "cells": [
  {
   "cell_type": "code",
   "execution_count": 8,
   "metadata": {},
   "outputs": [
    {
     "name": "stdout",
     "output_type": "stream",
     "text": [
      "20000\n",
      "60.0\n"
     ]
    }
   ],
   "source": [
    "import numpy as np\n",
    "a = input()\n",
    "#input20000\n",
    "gdb=20*np.log10(np.divide(float(a),20))\n",
    "print(gdb)\n",
    "#gdb wil be 60"
   ]
  },
  {
   "cell_type": "code",
   "execution_count": 7,
   "metadata": {},
   "outputs": [
    {
     "name": "stdout",
     "output_type": "stream",
     "text": [
      "632.4555320336758\n",
      "6324.555320336759\n"
     ]
    },
    {
     "data": {
      "text/plain": [
       "0.09999999999999999"
      ]
     },
     "execution_count": 7,
     "metadata": {},
     "output_type": "execute_result"
    }
   ],
   "source": [
    "p30=30/20\n",
    "p30=20*np.power(10,p30)\n",
    "print(p30)\n",
    "p50=50/20\n",
    "p50=20*np.power(10,p50)\n",
    "print(p50)\n",
    "\n",
    "np.divide(p30,p50)\n",
    "# the ratio"
   ]
  }
 ],
 "metadata": {
  "kernelspec": {
   "display_name": "Python 3",
   "language": "python",
   "name": "python3"
  },
  "language_info": {
   "codemirror_mode": {
    "name": "ipython",
    "version": 3
   },
   "file_extension": ".py",
   "mimetype": "text/x-python",
   "name": "python",
   "nbconvert_exporter": "python",
   "pygments_lexer": "ipython3",
   "version": "3.8.3"
  }
 },
 "nbformat": 4,
 "nbformat_minor": 4
}
