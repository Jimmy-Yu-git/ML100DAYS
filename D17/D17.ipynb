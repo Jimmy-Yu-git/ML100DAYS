{
 "cells": [
  {
   "cell_type": "code",
   "execution_count": 2,
   "metadata": {},
   "outputs": [
    {
     "data": {
      "text/plain": [
       "'\\n題目 : \\n\\n在速度較慢的時候，可以先從哪邊開始檢查？\\n資料過大時應採取什麼方式讓記憶體占用量下降？\\n'"
      ]
     },
     "execution_count": 2,
     "metadata": {},
     "output_type": "execute_result"
    }
   ],
   "source": [
    "'''\n",
    "題目 : \n",
    "\n",
    "在速度較慢的時候，可以先從哪邊開始檢查？\n",
    "資料過大時應採取什麼方式讓記憶體占用量下降？\n",
    "'''"
   ]
  },
  {
   "cell_type": "code",
   "execution_count": 3,
   "metadata": {},
   "outputs": [
    {
     "data": {
      "text/plain": [
       "'\\n可以從資料讀取開始檢查,讀取速度以 pkl 檔為最快，是平常讀 csv 的 6 倍速，當然不同環境與不同資料會有所差距，不過資料越多改善會越明顯。\\n可先將csv檔案用python 讀取後再轉成pkl儲存,下次開啟直接開啟pkl即可\\n'"
      ]
     },
     "execution_count": 3,
     "metadata": {},
     "output_type": "execute_result"
    }
   ],
   "source": [
    "'''\n",
    "可以從資料讀取開始檢查,讀取速度以 pkl 檔為最快，是平常讀 csv 的 6 倍速，當然不同環境與不同資料會有所差距，不過資料越多改善會越明顯。\n",
    "可先將csv檔案用python 讀取後再轉成pkl儲存,下次開啟直接開啟pkl即可\n",
    "'''"
   ]
  },
  {
   "cell_type": "code",
   "execution_count": 1,
   "metadata": {},
   "outputs": [
    {
     "data": {
      "text/plain": [
       "'\\n儘量使用 Python 的內建函式，能夠提高執行效率\\ngroupby+agg+ 內建函數是最快的\\n因為 pandas 的內建函數皆有經過加速後的算法\\n如需要用到自己的函式，那盡量使用 agg 會比 transform 來的快速\\n採用 isin() 篩選出對應資料室最快的，速度快是因為它採用了向量化的資料處理方式\\n遇到大資料集時，常有記憶體不足的問題\\n整數型態int改成uint減少記憶體正用空間\\n浮點數型態float64改成float32減少記憶體正用空間\\n但須先確認資料範圍是否都在更改後的範圍內,才不會造成資料讀取錯誤\\n'"
      ]
     },
     "execution_count": 1,
     "metadata": {},
     "output_type": "execute_result"
    }
   ],
   "source": [
    "'''\n",
    "儘量使用 Python 的內建函式，能夠提高執行效率\n",
    "groupby+agg+ 內建函數是最快的\n",
    "因為 pandas 的內建函數皆有經過加速後的算法\n",
    "如需要用到自己的函式，那盡量使用 agg 會比 transform 來的快速\n",
    "採用 isin() 篩選出對應資料室最快的，速度快是因為它採用了向量化的資料處理方式\n",
    "遇到大資料集時，常有記憶體不足的問題\n",
    "整數型態int改成uint減少記憶體正用空間\n",
    "浮點數型態float64改成float32減少記憶體正用空間\n",
    "但須先確認資料範圍是否都在更改後的範圍內,才不會造成資料讀取錯誤\n",
    "'''"
   ]
  },
  {
   "cell_type": "code",
   "execution_count": null,
   "metadata": {},
   "outputs": [],
   "source": []
  }
 ],
 "metadata": {
  "kernelspec": {
   "display_name": "Python 3",
   "language": "python",
   "name": "python3"
  },
  "language_info": {
   "codemirror_mode": {
    "name": "ipython",
    "version": 3
   },
   "file_extension": ".py",
   "mimetype": "text/x-python",
   "name": "python",
   "nbconvert_exporter": "python",
   "pygments_lexer": "ipython3",
   "version": "3.8.3"
  }
 },
 "nbformat": 4,
 "nbformat_minor": 4
}
